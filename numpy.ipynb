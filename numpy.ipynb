{
 "cells": [
  {
   "cell_type": "code",
   "execution_count": 56,
   "id": "8abc3f27-3d97-4c44-b498-8d35eaeb9805",
   "metadata": {},
   "outputs": [],
   "source": [
    "import numpy as np"
   ]
  },
  {
   "cell_type": "code",
   "execution_count": 57,
   "id": "cc3b83f5-7d2a-45af-85c8-8e792cdfc8a4",
   "metadata": {},
   "outputs": [],
   "source": [
    "two_array = np.random.randint(1,21,(3,3))"
   ]
  },
  {
   "cell_type": "code",
   "execution_count": 58,
   "id": "d9e8e2e1-68d2-4464-80bf-f53ad877aef0",
   "metadata": {},
   "outputs": [
    {
     "data": {
      "text/plain": [
       "array([[14, 10, 15],\n",
       "       [16, 20,  9],\n",
       "       [ 2, 16,  1]])"
      ]
     },
     "execution_count": 58,
     "metadata": {},
     "output_type": "execute_result"
    }
   ],
   "source": [
    "two_array"
   ]
  },
  {
   "cell_type": "code",
   "execution_count": 59,
   "id": "afff8c4b-b4ec-400e-a1fa-dc1ae387dde7",
   "metadata": {},
   "outputs": [
    {
     "data": {
      "text/plain": [
       "(3, 3)"
      ]
     },
     "execution_count": 59,
     "metadata": {},
     "output_type": "execute_result"
    }
   ],
   "source": [
    "two_array.shape"
   ]
  },
  {
   "cell_type": "code",
   "execution_count": 60,
   "id": "97a8c86b-3c6c-46c4-917c-a296f0abb0ac",
   "metadata": {},
   "outputs": [
    {
     "data": {
      "text/plain": [
       "9"
      ]
     },
     "execution_count": 60,
     "metadata": {},
     "output_type": "execute_result"
    }
   ],
   "source": [
    "two_array.size"
   ]
  },
  {
   "cell_type": "code",
   "execution_count": 61,
   "id": "bad0e6e1-a8ad-4483-a624-52b6b23bb555",
   "metadata": {},
   "outputs": [
    {
     "data": {
      "text/plain": [
       "dtype('int32')"
      ]
     },
     "execution_count": 61,
     "metadata": {},
     "output_type": "execute_result"
    }
   ],
   "source": [
    "two_array.dtype"
   ]
  },
  {
   "cell_type": "code",
   "execution_count": 64,
   "id": "e5a4257c-b795-4a1d-a3db-0a54d1a8e4f1",
   "metadata": {},
   "outputs": [
    {
     "data": {
      "text/plain": [
       "array([14, 10, 15])"
      ]
     },
     "execution_count": 64,
     "metadata": {},
     "output_type": "execute_result"
    }
   ],
   "source": [
    "two_array[0,:]"
   ]
  },
  {
   "cell_type": "code",
   "execution_count": 65,
   "id": "8dd96675-578b-45fd-a207-93f67c0a4cc7",
   "metadata": {},
   "outputs": [
    {
     "data": {
      "text/plain": [
       "array([15,  9,  1])"
      ]
     },
     "execution_count": 65,
     "metadata": {},
     "output_type": "execute_result"
    }
   ],
   "source": [
    "two_array[:,-1]"
   ]
  },
  {
   "cell_type": "code",
   "execution_count": 66,
   "id": "8951985c-cc84-4556-81e6-ce53b7b0cbaa",
   "metadata": {},
   "outputs": [],
   "source": [
    "store_2d = np.array([\n",
    "    [1,2,3],\n",
    "    [4,5,6],\n",
    "    [7,8,9]\n",
    "])"
   ]
  },
  {
   "cell_type": "code",
   "execution_count": 67,
   "id": "85007b48-7dd9-4fac-bca6-40a30c672471",
   "metadata": {},
   "outputs": [
    {
     "data": {
      "text/plain": [
       "45"
      ]
     },
     "execution_count": 67,
     "metadata": {},
     "output_type": "execute_result"
    }
   ],
   "source": [
    "store_2d.sum()"
   ]
  },
  {
   "cell_type": "code",
   "execution_count": 68,
   "id": "a60c37b7-90f6-457b-93e6-e0a50da43a35",
   "metadata": {},
   "outputs": [
    {
     "data": {
      "text/plain": [
       "array([ 6, 15, 24])"
      ]
     },
     "execution_count": 68,
     "metadata": {},
     "output_type": "execute_result"
    }
   ],
   "source": [
    "np.sum(store_2d, axis=1)"
   ]
  },
  {
   "cell_type": "code",
   "execution_count": 69,
   "id": "85c7dc8d-a960-45c9-ba3e-2ab059d20aa2",
   "metadata": {},
   "outputs": [
    {
     "data": {
      "text/plain": [
       "array([12, 15, 18])"
      ]
     },
     "execution_count": 69,
     "metadata": {},
     "output_type": "execute_result"
    }
   ],
   "source": [
    "np.sum(store_2d, axis=0)"
   ]
  },
  {
   "cell_type": "code",
   "execution_count": 70,
   "id": "9228535b-ed89-4cc0-9d86-935dccb563bc",
   "metadata": {},
   "outputs": [],
   "source": [
    "one_d_array = np.arange(10, 31, 4)\n",
    "two_d_array = one_d_array.reshape(2, 3)\n",
    "div_by_five = two_d_array[two_d_array % 5 ==0]"
   ]
  },
  {
   "cell_type": "code",
   "execution_count": 71,
   "id": "f9b22c2c-ec4d-4366-b520-708fc6a3544e",
   "metadata": {},
   "outputs": [
    {
     "data": {
      "text/plain": [
       "array([10, 30])"
      ]
     },
     "execution_count": 71,
     "metadata": {},
     "output_type": "execute_result"
    }
   ],
   "source": [
    "div_by_five"
   ]
  },
  {
   "cell_type": "code",
   "execution_count": null,
   "id": "a649ce94-457e-4615-ab00-08a6d9c3b8df",
   "metadata": {},
   "outputs": [],
   "source": []
  }
 ],
 "metadata": {
  "kernelspec": {
   "display_name": "venv",
   "language": "python",
   "name": "venv"
  },
  "language_info": {
   "codemirror_mode": {
    "name": "ipython",
    "version": 3
   },
   "file_extension": ".py",
   "mimetype": "text/x-python",
   "name": "python",
   "nbconvert_exporter": "python",
   "pygments_lexer": "ipython3",
   "version": "3.11.4"
  }
 },
 "nbformat": 4,
 "nbformat_minor": 5
}
